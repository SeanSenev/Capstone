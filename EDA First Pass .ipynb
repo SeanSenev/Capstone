{
 "cells": [
  {
   "cell_type": "code",
   "execution_count": 1,
   "id": "9f3b6858",
   "metadata": {},
   "outputs": [],
   "source": [
    "import pandas as pd"
   ]
  },
  {
   "cell_type": "code",
   "execution_count": 2,
   "id": "bcac2cc0",
   "metadata": {},
   "outputs": [
    {
     "name": "stdout",
     "output_type": "stream",
     "text": [
      "EDA First Pass .ipynb     README.md                 states_2022-06-27-00.csv\r\n"
     ]
    }
   ],
   "source": [
    "ls"
   ]
  },
  {
   "cell_type": "code",
   "execution_count": 3,
   "id": "399278ee",
   "metadata": {},
   "outputs": [],
   "source": [
    "df = pd.read_csv(\"states_2022-06-27-00.csv\")"
   ]
  },
  {
   "cell_type": "code",
   "execution_count": 4,
   "id": "5214758b",
   "metadata": {},
   "outputs": [
    {
     "data": {
      "text/html": [
       "<div>\n",
       "<style scoped>\n",
       "    .dataframe tbody tr th:only-of-type {\n",
       "        vertical-align: middle;\n",
       "    }\n",
       "\n",
       "    .dataframe tbody tr th {\n",
       "        vertical-align: top;\n",
       "    }\n",
       "\n",
       "    .dataframe thead th {\n",
       "        text-align: right;\n",
       "    }\n",
       "</style>\n",
       "<table border=\"1\" class=\"dataframe\">\n",
       "  <thead>\n",
       "    <tr style=\"text-align: right;\">\n",
       "      <th></th>\n",
       "      <th>time</th>\n",
       "      <th>icao24</th>\n",
       "      <th>lat</th>\n",
       "      <th>lon</th>\n",
       "      <th>velocity</th>\n",
       "      <th>heading</th>\n",
       "      <th>vertrate</th>\n",
       "      <th>callsign</th>\n",
       "      <th>onground</th>\n",
       "      <th>alert</th>\n",
       "      <th>spi</th>\n",
       "      <th>squawk</th>\n",
       "      <th>baroaltitude</th>\n",
       "      <th>geoaltitude</th>\n",
       "      <th>lastposupdate</th>\n",
       "      <th>lastcontact</th>\n",
       "    </tr>\n",
       "  </thead>\n",
       "  <tbody>\n",
       "    <tr>\n",
       "      <th>0</th>\n",
       "      <td>1656288000</td>\n",
       "      <td>34718e</td>\n",
       "      <td>40.872940</td>\n",
       "      <td>1.922974</td>\n",
       "      <td>187.631064</td>\n",
       "      <td>245.543044</td>\n",
       "      <td>8.12800</td>\n",
       "      <td>IBE2601</td>\n",
       "      <td>False</td>\n",
       "      <td>False</td>\n",
       "      <td>False</td>\n",
       "      <td>417.0</td>\n",
       "      <td>5509.26</td>\n",
       "      <td>5814.06</td>\n",
       "      <td>1.656288e+09</td>\n",
       "      <td>1.656288e+09</td>\n",
       "    </tr>\n",
       "    <tr>\n",
       "      <th>1</th>\n",
       "      <td>1656288000</td>\n",
       "      <td>ac6364</td>\n",
       "      <td>33.139048</td>\n",
       "      <td>-85.526266</td>\n",
       "      <td>237.239575</td>\n",
       "      <td>337.160319</td>\n",
       "      <td>0.00000</td>\n",
       "      <td>DAL749</td>\n",
       "      <td>False</td>\n",
       "      <td>False</td>\n",
       "      <td>False</td>\n",
       "      <td>5761.0</td>\n",
       "      <td>10363.20</td>\n",
       "      <td>11003.28</td>\n",
       "      <td>1.656288e+09</td>\n",
       "      <td>1.656288e+09</td>\n",
       "    </tr>\n",
       "    <tr>\n",
       "      <th>2</th>\n",
       "      <td>1656288000</td>\n",
       "      <td>406471</td>\n",
       "      <td>51.908569</td>\n",
       "      <td>1.838303</td>\n",
       "      <td>169.170746</td>\n",
       "      <td>286.065061</td>\n",
       "      <td>-0.65024</td>\n",
       "      <td>TOM891</td>\n",
       "      <td>False</td>\n",
       "      <td>False</td>\n",
       "      <td>False</td>\n",
       "      <td>3541.0</td>\n",
       "      <td>5478.78</td>\n",
       "      <td>5570.22</td>\n",
       "      <td>1.656288e+09</td>\n",
       "      <td>1.656288e+09</td>\n",
       "    </tr>\n",
       "    <tr>\n",
       "      <th>3</th>\n",
       "      <td>1656288000</td>\n",
       "      <td>a04417</td>\n",
       "      <td>33.757187</td>\n",
       "      <td>-83.458370</td>\n",
       "      <td>132.312157</td>\n",
       "      <td>228.625465</td>\n",
       "      <td>-0.32512</td>\n",
       "      <td>N116SK</td>\n",
       "      <td>False</td>\n",
       "      <td>False</td>\n",
       "      <td>False</td>\n",
       "      <td>1716.0</td>\n",
       "      <td>7955.28</td>\n",
       "      <td>8458.20</td>\n",
       "      <td>1.656288e+09</td>\n",
       "      <td>1.656288e+09</td>\n",
       "    </tr>\n",
       "    <tr>\n",
       "      <th>4</th>\n",
       "      <td>1656288000</td>\n",
       "      <td>c04aa1</td>\n",
       "      <td>42.869522</td>\n",
       "      <td>-79.307939</td>\n",
       "      <td>209.512017</td>\n",
       "      <td>355.493393</td>\n",
       "      <td>-7.80288</td>\n",
       "      <td>CGCGU</td>\n",
       "      <td>False</td>\n",
       "      <td>False</td>\n",
       "      <td>False</td>\n",
       "      <td>3622.0</td>\n",
       "      <td>5859.78</td>\n",
       "      <td>6088.38</td>\n",
       "      <td>1.656288e+09</td>\n",
       "      <td>1.656288e+09</td>\n",
       "    </tr>\n",
       "  </tbody>\n",
       "</table>\n",
       "</div>"
      ],
      "text/plain": [
       "         time  icao24        lat        lon    velocity     heading  vertrate  \\\n",
       "0  1656288000  34718e  40.872940   1.922974  187.631064  245.543044   8.12800   \n",
       "1  1656288000  ac6364  33.139048 -85.526266  237.239575  337.160319   0.00000   \n",
       "2  1656288000  406471  51.908569   1.838303  169.170746  286.065061  -0.65024   \n",
       "3  1656288000  a04417  33.757187 -83.458370  132.312157  228.625465  -0.32512   \n",
       "4  1656288000  c04aa1  42.869522 -79.307939  209.512017  355.493393  -7.80288   \n",
       "\n",
       "   callsign  onground  alert    spi  squawk  baroaltitude  geoaltitude  \\\n",
       "0  IBE2601      False  False  False   417.0       5509.26      5814.06   \n",
       "1  DAL749       False  False  False  5761.0      10363.20     11003.28   \n",
       "2  TOM891       False  False  False  3541.0       5478.78      5570.22   \n",
       "3  N116SK       False  False  False  1716.0       7955.28      8458.20   \n",
       "4  CGCGU        False  False  False  3622.0       5859.78      6088.38   \n",
       "\n",
       "   lastposupdate   lastcontact  \n",
       "0   1.656288e+09  1.656288e+09  \n",
       "1   1.656288e+09  1.656288e+09  \n",
       "2   1.656288e+09  1.656288e+09  \n",
       "3   1.656288e+09  1.656288e+09  \n",
       "4   1.656288e+09  1.656288e+09  "
      ]
     },
     "execution_count": 4,
     "metadata": {},
     "output_type": "execute_result"
    }
   ],
   "source": [
    "df.head()"
   ]
  },
  {
   "cell_type": "code",
   "execution_count": 5,
   "id": "0970c61d",
   "metadata": {},
   "outputs": [
    {
     "data": {
      "text/plain": [
       "(2277578, 16)"
      ]
     },
     "execution_count": 5,
     "metadata": {},
     "output_type": "execute_result"
    }
   ],
   "source": [
    "df.shape"
   ]
  },
  {
   "cell_type": "code",
   "execution_count": 6,
   "id": "2fb6d6fe",
   "metadata": {},
   "outputs": [
    {
     "data": {
      "text/plain": [
       "Index(['time', 'icao24', 'lat', 'lon', 'velocity', 'heading', 'vertrate',\n",
       "       'callsign', 'onground', 'alert', 'spi', 'squawk', 'baroaltitude',\n",
       "       'geoaltitude', 'lastposupdate', 'lastcontact'],\n",
       "      dtype='object')"
      ]
     },
     "execution_count": 6,
     "metadata": {},
     "output_type": "execute_result"
    }
   ],
   "source": [
    "df.columns"
   ]
  },
  {
   "cell_type": "code",
   "execution_count": 7,
   "id": "83c59ace",
   "metadata": {},
   "outputs": [],
   "source": [
    "# Looks like our data are x,y coordinate pairs of certain flights (callsign is individual flight)"
   ]
  },
  {
   "cell_type": "code",
   "execution_count": 9,
   "id": "419b640f",
   "metadata": {},
   "outputs": [],
   "source": [
    "# We can see the velocity of the aircraft, the compass heading, the vertical climb rate, the callsign of the aircraft,\n",
    "# whether or not it was on the ground (onground), don't know what alert and api are, and altitude data."
   ]
  },
  {
   "cell_type": "code",
   "execution_count": null,
   "id": "8a09b421",
   "metadata": {},
   "outputs": [],
   "source": []
  }
 ],
 "metadata": {
  "kernelspec": {
   "display_name": "Python 3 (ipykernel)",
   "language": "python",
   "name": "python3"
  },
  "language_info": {
   "codemirror_mode": {
    "name": "ipython",
    "version": 3
   },
   "file_extension": ".py",
   "mimetype": "text/x-python",
   "name": "python",
   "nbconvert_exporter": "python",
   "pygments_lexer": "ipython3",
   "version": "3.9.7"
  }
 },
 "nbformat": 4,
 "nbformat_minor": 5
}
