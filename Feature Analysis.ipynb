{
 "cells": [
  {
   "cell_type": "code",
   "execution_count": 1,
   "id": "b38d91a0",
   "metadata": {},
   "outputs": [
    {
     "name": "stdout",
     "output_type": "stream",
     "text": [
      "Requirement already satisfied: fastparquet in /Users/sean/opt/anaconda3/lib/python3.9/site-packages (2023.8.0)\n",
      "Requirement already satisfied: pandas>=1.5.0 in /Users/sean/opt/anaconda3/lib/python3.9/site-packages (from fastparquet) (1.5.1)\n",
      "Requirement already satisfied: numpy>=1.20.3 in /Users/sean/opt/anaconda3/lib/python3.9/site-packages (from fastparquet) (1.23.4)\n",
      "Requirement already satisfied: cramjam>=2.3 in /Users/sean/opt/anaconda3/lib/python3.9/site-packages (from fastparquet) (2.7.0)\n",
      "Requirement already satisfied: fsspec in /Users/sean/opt/anaconda3/lib/python3.9/site-packages (from fastparquet) (2023.9.1)\n",
      "Requirement already satisfied: packaging in /Users/sean/opt/anaconda3/lib/python3.9/site-packages (from fastparquet) (23.1)\n",
      "Requirement already satisfied: python-dateutil>=2.8.1 in /Users/sean/opt/anaconda3/lib/python3.9/site-packages (from pandas>=1.5.0->fastparquet) (2.8.2)\n",
      "Requirement already satisfied: pytz>=2020.1 in /Users/sean/opt/anaconda3/lib/python3.9/site-packages (from pandas>=1.5.0->fastparquet) (2021.3)\n",
      "Requirement already satisfied: six>=1.5 in /Users/sean/opt/anaconda3/lib/python3.9/site-packages (from python-dateutil>=2.8.1->pandas>=1.5.0->fastparquet) (1.16.0)\n",
      "\u001b[33mDEPRECATION: pyodbc 4.0.0-unsupported has a non-standard version number. pip 23.3 will enforce this behaviour change. A possible replacement is to upgrade to a newer version of pyodbc or contact the author to suggest that they release a version with a conforming version number. Discussion can be found at https://github.com/pypa/pip/issues/12063\u001b[0m\u001b[33m\n",
      "\u001b[0m\u001b[33mDEPRECATION: sqlalchemy-mate 1.4.28.3 has a non-standard dependency specifier sqlalchemy>=1.4.1<2.0.0. pip 23.3 will enforce this behaviour change. A possible replacement is to upgrade to a newer version of sqlalchemy-mate or contact the author to suggest that they release a version with a conforming dependency specifiers. Discussion can be found at https://github.com/pypa/pip/issues/12063\u001b[0m\u001b[33m\n",
      "\u001b[0m"
     ]
    }
   ],
   "source": [
    "import pandas as pd\n",
    "!pip install fastparquet\n",
    "data = pd.read_parquet(\"Flight Summary - North Atlantic - 2019.pq\")"
   ]
  },
  {
   "cell_type": "code",
   "execution_count": 3,
   "id": "825e1b91",
   "metadata": {},
   "outputs": [
    {
     "data": {
      "text/html": [
       "<div>\n",
       "<style scoped>\n",
       "    .dataframe tbody tr th:only-of-type {\n",
       "        vertical-align: middle;\n",
       "    }\n",
       "\n",
       "    .dataframe tbody tr th {\n",
       "        vertical-align: top;\n",
       "    }\n",
       "\n",
       "    .dataframe thead th {\n",
       "        text-align: right;\n",
       "    }\n",
       "</style>\n",
       "<table border=\"1\" class=\"dataframe\">\n",
       "  <thead>\n",
       "    <tr style=\"text-align: right;\">\n",
       "      <th></th>\n",
       "      <th>ICAO Aircraft type designator</th>\n",
       "      <th>First known waypoint time (UTC)</th>\n",
       "      <th>Last known waypoint time (UTC)</th>\n",
       "      <th>Direction</th>\n",
       "      <th>Total flight dist (km)</th>\n",
       "      <th>Total fuel burn (kg)</th>\n",
       "      <th>Mean overall propulsion efficiency</th>\n",
       "      <th>Aircraft mass mean (kg)</th>\n",
       "      <th>Mean nvPM number EI (kg-1)</th>\n",
       "      <th>Initial contrail length (km)</th>\n",
       "      <th>...</th>\n",
       "      <th>Ice vol mean radius, Mean (um)</th>\n",
       "      <th>Tau contrail, Mean</th>\n",
       "      <th>Tau cirrus, Mean</th>\n",
       "      <th>RF SW (W m-2)</th>\n",
       "      <th>RF LW (W m-2)</th>\n",
       "      <th>RF Net (W m-2)</th>\n",
       "      <th>Total contrail EF (J)</th>\n",
       "      <th>SDR mean (W m-2)</th>\n",
       "      <th>RSR mean (W m-2)</th>\n",
       "      <th>OLR mean (W m-2)</th>\n",
       "    </tr>\n",
       "  </thead>\n",
       "  <tbody>\n",
       "    <tr>\n",
       "      <th>0</th>\n",
       "      <td>B772</td>\n",
       "      <td>2019-01-01 02:17:49</td>\n",
       "      <td>2019-01-01 05:18:26</td>\n",
       "      <td>E</td>\n",
       "      <td>2633.994219</td>\n",
       "      <td>23991.530999</td>\n",
       "      <td>0.311201</td>\n",
       "      <td>228553.082349</td>\n",
       "      <td>4.920940e+14</td>\n",
       "      <td>1415.515126</td>\n",
       "      <td>...</td>\n",
       "      <td>0.000000</td>\n",
       "      <td>0.000000</td>\n",
       "      <td>0.000000</td>\n",
       "      <td>0.000000</td>\n",
       "      <td>0.000000</td>\n",
       "      <td>0.000000</td>\n",
       "      <td>0.000000e+00</td>\n",
       "      <td>0.000000</td>\n",
       "      <td>0.000000</td>\n",
       "      <td>0.000000</td>\n",
       "    </tr>\n",
       "    <tr>\n",
       "      <th>1</th>\n",
       "      <td>B763</td>\n",
       "      <td>2019-01-01 02:19:06</td>\n",
       "      <td>2019-01-01 05:27:55</td>\n",
       "      <td>E</td>\n",
       "      <td>2670.997754</td>\n",
       "      <td>13886.660380</td>\n",
       "      <td>0.325782</td>\n",
       "      <td>150812.984413</td>\n",
       "      <td>1.425808e+15</td>\n",
       "      <td>1701.125144</td>\n",
       "      <td>...</td>\n",
       "      <td>3.716948</td>\n",
       "      <td>0.090483</td>\n",
       "      <td>0.001725</td>\n",
       "      <td>-0.565425</td>\n",
       "      <td>4.231059</td>\n",
       "      <td>3.665634</td>\n",
       "      <td>1.515245e+14</td>\n",
       "      <td>36.862724</td>\n",
       "      <td>15.583469</td>\n",
       "      <td>238.200396</td>\n",
       "    </tr>\n",
       "    <tr>\n",
       "      <th>2</th>\n",
       "      <td>B763</td>\n",
       "      <td>2019-01-01 02:21:40</td>\n",
       "      <td>2019-01-01 05:11:34</td>\n",
       "      <td>E</td>\n",
       "      <td>2388.740516</td>\n",
       "      <td>13397.610853</td>\n",
       "      <td>0.304915</td>\n",
       "      <td>150872.338643</td>\n",
       "      <td>1.172578e+15</td>\n",
       "      <td>2388.740516</td>\n",
       "      <td>...</td>\n",
       "      <td>0.000000</td>\n",
       "      <td>0.000000</td>\n",
       "      <td>0.000000</td>\n",
       "      <td>0.000000</td>\n",
       "      <td>0.000000</td>\n",
       "      <td>0.000000</td>\n",
       "      <td>0.000000e+00</td>\n",
       "      <td>0.000000</td>\n",
       "      <td>0.000000</td>\n",
       "      <td>0.000000</td>\n",
       "    </tr>\n",
       "    <tr>\n",
       "      <th>3</th>\n",
       "      <td>B744</td>\n",
       "      <td>2019-01-01 02:16:31</td>\n",
       "      <td>2019-01-01 05:44:38</td>\n",
       "      <td>E</td>\n",
       "      <td>3039.310160</td>\n",
       "      <td>38210.558395</td>\n",
       "      <td>0.317271</td>\n",
       "      <td>311350.241271</td>\n",
       "      <td>5.589923e+14</td>\n",
       "      <td>2216.876721</td>\n",
       "      <td>...</td>\n",
       "      <td>0.000000</td>\n",
       "      <td>0.000000</td>\n",
       "      <td>0.000000</td>\n",
       "      <td>0.000000</td>\n",
       "      <td>0.000000</td>\n",
       "      <td>0.000000</td>\n",
       "      <td>0.000000e+00</td>\n",
       "      <td>0.000000</td>\n",
       "      <td>0.000000</td>\n",
       "      <td>0.000000</td>\n",
       "    </tr>\n",
       "    <tr>\n",
       "      <th>4</th>\n",
       "      <td>B789</td>\n",
       "      <td>2019-01-01 03:15:00</td>\n",
       "      <td>2019-01-01 04:30:15</td>\n",
       "      <td>E</td>\n",
       "      <td>1092.545055</td>\n",
       "      <td>9686.423444</td>\n",
       "      <td>0.282729</td>\n",
       "      <td>212017.428561</td>\n",
       "      <td>8.404441e+14</td>\n",
       "      <td>1092.545055</td>\n",
       "      <td>...</td>\n",
       "      <td>0.000000</td>\n",
       "      <td>0.000000</td>\n",
       "      <td>0.000000</td>\n",
       "      <td>0.000000</td>\n",
       "      <td>0.000000</td>\n",
       "      <td>0.000000</td>\n",
       "      <td>0.000000e+00</td>\n",
       "      <td>0.000000</td>\n",
       "      <td>0.000000</td>\n",
       "      <td>0.000000</td>\n",
       "    </tr>\n",
       "  </tbody>\n",
       "</table>\n",
       "<p>5 rows × 37 columns</p>\n",
       "</div>"
      ],
      "text/plain": [
       "  ICAO Aircraft type designator First known waypoint time (UTC)  \\\n",
       "0                          B772             2019-01-01 02:17:49   \n",
       "1                          B763             2019-01-01 02:19:06   \n",
       "2                          B763             2019-01-01 02:21:40   \n",
       "3                          B744             2019-01-01 02:16:31   \n",
       "4                          B789             2019-01-01 03:15:00   \n",
       "\n",
       "  Last known waypoint time (UTC) Direction  Total flight dist (km)  \\\n",
       "0            2019-01-01 05:18:26         E             2633.994219   \n",
       "1            2019-01-01 05:27:55         E             2670.997754   \n",
       "2            2019-01-01 05:11:34         E             2388.740516   \n",
       "3            2019-01-01 05:44:38         E             3039.310160   \n",
       "4            2019-01-01 04:30:15         E             1092.545055   \n",
       "\n",
       "   Total fuel burn (kg)  Mean overall propulsion efficiency  \\\n",
       "0          23991.530999                            0.311201   \n",
       "1          13886.660380                            0.325782   \n",
       "2          13397.610853                            0.304915   \n",
       "3          38210.558395                            0.317271   \n",
       "4           9686.423444                            0.282729   \n",
       "\n",
       "   Aircraft mass mean (kg)  Mean nvPM number EI (kg-1)  \\\n",
       "0            228553.082349                4.920940e+14   \n",
       "1            150812.984413                1.425808e+15   \n",
       "2            150872.338643                1.172578e+15   \n",
       "3            311350.241271                5.589923e+14   \n",
       "4            212017.428561                8.404441e+14   \n",
       "\n",
       "   Initial contrail length (km)  ... Ice vol mean radius, Mean (um)  \\\n",
       "0                   1415.515126  ...                       0.000000   \n",
       "1                   1701.125144  ...                       3.716948   \n",
       "2                   2388.740516  ...                       0.000000   \n",
       "3                   2216.876721  ...                       0.000000   \n",
       "4                   1092.545055  ...                       0.000000   \n",
       "\n",
       "  Tau contrail, Mean  Tau cirrus, Mean  RF SW (W m-2)  RF LW (W m-2)  \\\n",
       "0           0.000000          0.000000       0.000000       0.000000   \n",
       "1           0.090483          0.001725      -0.565425       4.231059   \n",
       "2           0.000000          0.000000       0.000000       0.000000   \n",
       "3           0.000000          0.000000       0.000000       0.000000   \n",
       "4           0.000000          0.000000       0.000000       0.000000   \n",
       "\n",
       "   RF Net (W m-2)  Total contrail EF (J)  SDR mean (W m-2)  RSR mean (W m-2)  \\\n",
       "0        0.000000           0.000000e+00          0.000000          0.000000   \n",
       "1        3.665634           1.515245e+14         36.862724         15.583469   \n",
       "2        0.000000           0.000000e+00          0.000000          0.000000   \n",
       "3        0.000000           0.000000e+00          0.000000          0.000000   \n",
       "4        0.000000           0.000000e+00          0.000000          0.000000   \n",
       "\n",
       "   OLR mean (W m-2)  \n",
       "0          0.000000  \n",
       "1        238.200396  \n",
       "2          0.000000  \n",
       "3          0.000000  \n",
       "4          0.000000  \n",
       "\n",
       "[5 rows x 37 columns]"
      ]
     },
     "execution_count": 3,
     "metadata": {},
     "output_type": "execute_result"
    }
   ],
   "source": [
    "data.head()"
   ]
  },
  {
   "cell_type": "raw",
   "id": "84653cb1",
   "metadata": {},
   "source": [
    "At this stage - we begin by experimenting as to whether or not we can predict \"persistent contrail formation\"\n",
    "\n",
    "Given the atmospheric and flight data we have - can we predict whether or not a persistent contrail will form?"
   ]
  },
  {
   "cell_type": "code",
   "execution_count": 4,
   "id": "3d6cb76b",
   "metadata": {},
   "outputs": [],
   "source": [
    "# We set aside our target variable in this case - 1 if a a persisent contrail has a length > 0 , 0 otherwise\n",
    "\n",
    "data['PersistentContrail_Formed'] = data['Persistent contrail length (km)'].apply(lambda x: 1 if x > 0 else 0)"
   ]
  },
  {
   "cell_type": "code",
   "execution_count": 5,
   "id": "a0ffc3c1",
   "metadata": {},
   "outputs": [],
   "source": [
    "# Next we do some feature engineering to deduce temporal characteristics about a flight given the waypoint times\n",
    "\n",
    "# Convert the string columns to datetime\n",
    "data['First known waypoint time (UTC)'] = pd.to_datetime(data['First known waypoint time (UTC)'])\n",
    "data['Last known waypoint time (UTC)'] = pd.to_datetime(data['Last known waypoint time (UTC)'])\n",
    "\n",
    "# Compute flight duration between waypoints, Time of Day and Month\n",
    "data['Flight Duration'] = (data['Last known waypoint time (UTC)'] - data['First known waypoint time (UTC)']).dt.total_seconds()\n",
    "data['Time of Day'] = data['First known waypoint time (UTC)'].dt.hour\n",
    "data['Month'] = data['First known waypoint time (UTC)'].dt.month"
   ]
  },
  {
   "cell_type": "markdown",
   "id": "75c5f37d",
   "metadata": {},
   "source": [
    "With our list of features in hand - we need to understand which of them are most imporant in understanding our target variable - in this case, persistent contrail formation. The correlation matrix we used in our EDA highlights linear relationships but we need to understand the possibilty of nonlinear relationships as well. \n",
    "\n",
    "Our input feature space should be a list of features that have the highest linear and/or nonlinear relationships with our data. That will inform us which model is most effective in forecasting our target."
   ]
  },
  {
   "cell_type": "markdown",
   "id": "1f7564f6",
   "metadata": {},
   "source": [
    "#### Linear Feature Analysis"
   ]
  },
  {
   "cell_type": "code",
   "execution_count": 7,
   "id": "0feb089f",
   "metadata": {},
   "outputs": [],
   "source": [
    "import pandas as pd\n",
    "import matplotlib.pyplot as plt\n",
    "import seaborn as sns\n",
    "\n",
    "numerical_features = data.select_dtypes(include=['float64', 'int64'])\n",
    "# numerical_features.hist(bins=50, figsize=(20,15))\n",
    "\n",
    "# correlation = numerical_features.corr()\n",
    "# plt.figure(figsize=(15, 10))\n",
    "# sns.heatmap(correlation, annot=True, cmap='coolwarm')\n",
    "# plt.title(\"Correlation Matrix\")\n",
    "# plt.show()"
   ]
  },
  {
   "cell_type": "markdown",
   "id": "86801ea5",
   "metadata": {},
   "source": [
    "#### Non-linear Feature Analysis"
   ]
  },
  {
   "cell_type": "raw",
   "id": "89489a86",
   "metadata": {},
   "source": [
    "Unlike Pearson's correlation which looks at linear relationships, Spearman's rank correlation works by ranking the data before calculating the correlation. This makes it suitable for identifying monotonic relationships (not necessarily linear)."
   ]
  },
  {
   "cell_type": "raw",
   "id": "3ad3195e",
   "metadata": {},
   "source": [
    "Mutual information measures the dependency between the variables. It is equal to zero if and only if two random variables are independent, and higher values mean higher dependency. It can capture any kind of relationship, linear or nonlinear."
   ]
  },
  {
   "cell_type": "code",
   "execution_count": 8,
   "id": "54aa6098",
   "metadata": {},
   "outputs": [],
   "source": [
    "exclude_features = [\n",
    "    'Persistent contrail length (km)',\n",
    "    'Contrail altitude initial, Mean (ft)',\n",
    "    'Contrail altitude lifetime, Mean (ft)',\n",
    "    'Contrail age, Mean (h)',\n",
    "    'Contrail age, Max (h)',\n",
    "    'Initial contrail length (km)'\n",
    "]\n",
    "\n",
    "selected_features = [feat for feat in numerical_features.columns if feat not in exclude_features]"
   ]
  },
  {
   "cell_type": "markdown",
   "id": "1b5e82d2",
   "metadata": {},
   "source": [
    "#### Determining spearman correlations"
   ]
  },
  {
   "cell_type": "code",
   "execution_count": 9,
   "id": "59364c60",
   "metadata": {},
   "outputs": [
    {
     "name": "stdout",
     "output_type": "stream",
     "text": [
      "PersistentContrail_Formed: 1.0000\n",
      "OLR mean (W m-2): 0.8995\n",
      "Tau contrail, Mean: 0.8995\n",
      "Ice number initial, Stdev (m-1): 0.8995\n",
      "Temp initial, Stdev (K): 0.8995\n",
      "Ice number lifetime, Mean (m-1): 0.8995\n",
      "Ice vol mean radius, Mean (um): 0.8995\n",
      "RHi initial, Mean: 0.8995\n",
      "RHi lifetime, Mean: 0.8995\n",
      "Temp SAC, Stdev (K): 0.8995\n",
      "Ice number initial, Mean (m-1): 0.8995\n",
      "Temp initial, Mean (K): 0.8995\n",
      "RHi initial, Stdev: 0.8995\n",
      "Temp SAC, Mean (K): 0.8995\n",
      "RF LW (W m-2): 0.8995\n",
      "Tau cirrus, Mean: 0.8787\n",
      "RSR mean (W m-2): 0.8399\n",
      "SDR mean (W m-2): 0.7847\n",
      "RF SW (W m-2): -0.7777\n",
      "Total contrail EF (J): 0.5313\n",
      "RF Net (W m-2): 0.3808\n",
      "Flight Duration: 0.1746\n",
      "Total fuel burn (kg): 0.1636\n",
      "Total flight dist (km): 0.1577\n",
      "Mean nvPM number EI (kg-1): -0.1339\n",
      "Aircraft mass mean (kg): 0.0884\n",
      "Mean overall propulsion efficiency: 0.0641\n",
      "Month: -0.0575\n",
      "Time of Day: -0.0135\n"
     ]
    }
   ],
   "source": [
    "from scipy.stats import spearmanr\n",
    "\n",
    "spearman_correlations = {}\n",
    "for feature in selected_features:\n",
    "    corr, _ = spearmanr(data[feature], data['PersistentContrail_Formed'])\n",
    "    spearman_correlations[feature] = corr\n",
    "\n",
    "# Display Spearman correlations sorted by absolute value\n",
    "sorted_spearman = sorted(spearman_correlations.items(), key=lambda x: abs(x[1]), reverse=True)\n",
    "for feature, corr in sorted_spearman:\n",
    "    print(f\"{feature}: {corr:.4f}\")"
   ]
  },
  {
   "cell_type": "markdown",
   "id": "66e8cfe3",
   "metadata": {},
   "source": [
    "#### Spearman feature analysis"
   ]
  },
  {
   "cell_type": "raw",
   "id": "c4bd821f",
   "metadata": {},
   "source": [
    "Highly Correlated Features: Several features have very high positive Spearman correlations (0.8995) with PersistentContrail_Formed. This suggests a strong monotonic relationship between these features and the target variable. It's interesting to note that so many features have an identical correlation value of 0.8995; this could be a coincidence, but it may also warrant further investigation to ensure there are no data issues or potential multicollinearity.\n",
    "\n",
    "Medium to Strong Correlations: Features like Tau cirrus, Mean, RSR mean (W m-2), and SDR mean (W m-2) have medium to strong correlations, which indicate that they too have noteworthy monotonic relationships with the target variable.\n",
    "\n",
    "Low Correlations: Features towards the bottom of the list (e.g., Flight Duration, Mean nvPM number EI (kg-1), Aircraft mass mean (kg)) have lower absolute correlations, implying weaker monotonic relationships with PersistentContrail_Formed.\n",
    "\n",
    "Negative Correlations: RF SW (W m-2) and a couple of other features show negative correlations, suggesting that as these features increase, the likelihood of PersistentContrail_Formed might decrease (or vice-versa)."
   ]
  },
  {
   "cell_type": "markdown",
   "id": "a08bc471",
   "metadata": {},
   "source": [
    "#### Determining mutual information scores"
   ]
  },
  {
   "cell_type": "code",
   "execution_count": 11,
   "id": "a8d9a8ca",
   "metadata": {},
   "outputs": [
    {
     "name": "stdout",
     "output_type": "stream",
     "text": [
      "OLR mean (W m-2): 0.6875\n",
      "Ice number lifetime, Mean (m-1): 0.6871\n",
      "PersistentContrail_Formed: 0.6870\n",
      "RHi initial, Stdev: 0.6869\n",
      "Temp initial, Mean (K): 0.6864\n",
      "RF Net (W m-2): 0.6861\n",
      "Temp initial, Stdev (K): 0.6860\n",
      "Temp SAC, Mean (K): 0.6859\n",
      "RHi lifetime, Mean: 0.6858\n",
      "Ice number initial, Mean (m-1): 0.6857\n",
      "Ice number initial, Stdev (m-1): 0.6856\n",
      "RF LW (W m-2): 0.6855\n",
      "Ice vol mean radius, Mean (um): 0.6854\n",
      "Tau contrail, Mean: 0.6854\n",
      "RHi initial, Mean: 0.6853\n",
      "Temp SAC, Stdev (K): 0.6848\n",
      "Total contrail EF (J): 0.6286\n",
      "Tau cirrus, Mean: 0.6190\n",
      "RSR mean (W m-2): 0.5357\n",
      "SDR mean (W m-2): 0.4477\n",
      "RF SW (W m-2): 0.4386\n",
      "Aircraft mass mean (kg): 0.0414\n",
      "Total flight dist (km): 0.0390\n",
      "Mean nvPM number EI (kg-1): 0.0265\n",
      "Total fuel burn (kg): 0.0240\n",
      "Flight Duration: 0.0228\n",
      "Month: 0.0089\n",
      "Mean overall propulsion efficiency: 0.0084\n",
      "Time of Day: 0.0021\n"
     ]
    }
   ],
   "source": [
    "from sklearn.feature_selection import mutual_info_regression\n",
    "\n",
    "# Compute mutual information scores\n",
    "mi_scores = mutual_info_regression(data[selected_features], data['PersistentContrail_Formed'])\n",
    "\n",
    "# Display mutual information scores\n",
    "for feature, score in sorted(zip(selected_features, mi_scores), key=lambda x: x[1], reverse=True):\n",
    "    print(f\"{feature}: {score:.4f}\")"
   ]
  },
  {
   "cell_type": "markdown",
   "id": "655dfe4b",
   "metadata": {},
   "source": [
    "#### Determining mutual information scores "
   ]
  },
  {
   "cell_type": "raw",
   "id": "7774603b",
   "metadata": {},
   "source": [
    "High MI Features: Several features have very high MI scores close to the top value, e.g., \n",
    "-Ice vol mean radius, Mean (um),\n",
    "-RHi lifetime, Mean, RF Net (W m-2), and so on. These features have strong mutual dependence with the target variable PersistentContrail_Formed.\n",
    "\n",
    "Medium MI Features: Features like Total contrail EF (J), Tau cirrus, Mean, and RSR mean (W m-2) have medium MI scores, indicating a medium level of mutual dependence with the target variable.\n",
    "\n",
    "Low MI Features: Features at the bottom of the list, such as Mean overall propulsion efficiency, Month, and Time of Day, have very low mutual dependence with the target variable. These features may not provide significant predictive power in a machine learning mode"
   ]
  },
  {
   "cell_type": "raw",
   "id": "474af0b5",
   "metadata": {},
   "source": [
    "Top Features (based on both Spearman and MI scores): \n",
    "- Ice vol mean radius, Mean (um)\n",
    "- RHi lifetime, Mean\n",
    "- RHi initial, Mean \n",
    "- Temp SAC, Mean (K) \n",
    "- Temp initial, Mean (K)\n",
    "- OLR mean (W m-2)\n",
    "- Tau contrail, Mean\n",
    "- Ice number lifetime, Mean (m-1)\n",
    "- Ice number initial, Mean (m-1)\n",
    "- RHi initial, Stdev.\n",
    "\n",
    "Consideration Features: Features like \n",
    "- Total contrail EF (J)\n",
    "- Tau cirrus, Mean, \n",
    "- RSR mean (W m-2) \n",
    "\n",
    "can also be considered given their reasonable ranking in both lists.\n",
    "\n",
    "Possible Exclusion: Features that rank low in both metrics, e.g., Mean overall propulsion efficiency, Month, and Time of Day, might be candidates for exclusion during initial modeling."
   ]
  },
  {
   "cell_type": "markdown",
   "id": "052e9aac",
   "metadata": {},
   "source": [
    "#### Understanding multicollinearity"
   ]
  },
  {
   "cell_type": "raw",
   "id": "c1d50dff",
   "metadata": {},
   "source": [
    "Multicollinearity refers to a situation in which two or more features in a dataset are highly correlated, meaning one can be linearly predicted from the others with a high degree of accuracy. In regression models, the presence of multicollinearity can make it hard to determine the effect of each feature on the target variable, leading to unstable estimates of the model parameters."
   ]
  },
  {
   "cell_type": "code",
   "execution_count": 41,
   "id": "523ad174",
   "metadata": {},
   "outputs": [
    {
     "name": "stderr",
     "output_type": "stream",
     "text": [
      "/Users/sean/opt/anaconda3/lib/python3.9/site-packages/statsmodels/tsa/tsatools.py:142: FutureWarning: In a future version of pandas all arguments of concat except for the argument 'objs' will be keyword-only.\n",
      "  x = pd.concat(x[::order], 1)\n",
      "/Users/sean/opt/anaconda3/lib/python3.9/site-packages/statsmodels/regression/linear_model.py:1715: RuntimeWarning: divide by zero encountered in double_scalars\n",
      "  return 1 - self.ssr/self.centered_tss\n"
     ]
    },
    {
     "name": "stdout",
     "output_type": "stream",
     "text": [
      "                              Variable            VIF\n",
      "0                                const       0.000000\n",
      "1               Total flight dist (km)      10.953208\n",
      "2                 Total fuel burn (kg)       6.372843\n",
      "3   Mean overall propulsion efficiency       0.847503\n",
      "4              Aircraft mass mean (kg)       4.518622\n",
      "5           Mean nvPM number EI (kg-1)       1.559062\n",
      "6         Initial contrail length (km)       1.561741\n",
      "7                    RHi initial, Mean     113.044371\n",
      "8                   RHi initial, Stdev       4.859674\n",
      "9                   RHi lifetime, Mean     282.667968\n",
      "10              Temp initial, Mean (K)    2736.647694\n",
      "11             Temp initial, Stdev (K)       1.674260\n",
      "12                  Temp SAC, Mean (K)    2674.739567\n",
      "13                 Temp SAC, Stdev (K)       2.674064\n",
      "14      Ice number initial, Mean (m-1)      14.434839\n",
      "15     Ice number initial, Stdev (m-1)       4.338855\n",
      "16     Ice number lifetime, Mean (m-1)      12.475935\n",
      "17      Ice vol mean radius, Mean (um)       5.545052\n",
      "18                  Tau contrail, Mean       8.065101\n",
      "19                    Tau cirrus, Mean       3.627094\n",
      "20                       RF SW (W m-2)  534098.453922\n",
      "21                       RF LW (W m-2)       6.109949\n",
      "22                      RF Net (W m-2)       3.535555\n",
      "23               Total contrail EF (J)       1.562915\n",
      "24                    SDR mean (W m-2)      13.470905\n",
      "25                    RSR mean (W m-2)       9.950651\n",
      "26                    OLR mean (W m-2)      41.027079\n",
      "27           PersistentContrail_Formed   17269.597479\n",
      "28                     Flight Duration      11.154631\n",
      "29                         Time of Day       1.150419\n",
      "30                               Month       1.020745\n"
     ]
    }
   ],
   "source": [
    "import pandas as pd\n",
    "from statsmodels.stats.outliers_influence import variance_inflation_factor\n",
    "from statsmodels.tools.tools import add_constant\n",
    "\n",
    "# Add a constant to the model (i.e., bias or intercept)\n",
    "df_const = add_constant(data[selected_features])\n",
    "\n",
    "# Calculate VIF for each feature\n",
    "vif = pd.DataFrame()\n",
    "vif[\"Variable\"] = df_const.columns\n",
    "vif[\"VIF\"] = [variance_inflation_factor(df_const.values, i) for i in range(df_const.shape[1])]\n",
    "\n",
    "print(vif)"
   ]
  },
  {
   "cell_type": "markdown",
   "id": "a45d3876",
   "metadata": {},
   "source": [
    "#### Train test split + PCA "
   ]
  },
  {
   "cell_type": "code",
   "execution_count": null,
   "id": "d4242b33",
   "metadata": {},
   "outputs": [],
   "source": [
    "import pandas as pd\n",
    "from sklearn.linear_model import LogisticRegression\n",
    "from sklearn.model_selection import train_test_split\n",
    "from sklearn.metrics import accuracy_score, precision_score, recall_score, roc_auc_score, confusion_matrix\n",
    "\n",
    "X = data.drop('PersistentContrail_Formed', axis=1)\n",
    "y = data['PersistentContrail_Formed']\n",
    "\n",
    "X_encoded = pd.get_dummies(X, drop_first=True)\n",
    "\n",
    "X_train, X_test, y_train, y_test = train_test_split(X_encoded, y, test_size=0.2, random_state=42)"
   ]
  },
  {
   "cell_type": "code",
   "execution_count": null,
   "id": "6b8f404b",
   "metadata": {},
   "outputs": [],
   "source": []
  },
  {
   "cell_type": "code",
   "execution_count": null,
   "id": "303dfaf5",
   "metadata": {},
   "outputs": [],
   "source": []
  },
  {
   "cell_type": "code",
   "execution_count": null,
   "id": "6a88a66f",
   "metadata": {},
   "outputs": [],
   "source": []
  },
  {
   "cell_type": "code",
   "execution_count": null,
   "id": "9bec24d1",
   "metadata": {},
   "outputs": [],
   "source": []
  }
 ],
 "metadata": {
  "kernelspec": {
   "display_name": "Python 3 (ipykernel)",
   "language": "python",
   "name": "python3"
  },
  "language_info": {
   "codemirror_mode": {
    "name": "ipython",
    "version": 3
   },
   "file_extension": ".py",
   "mimetype": "text/x-python",
   "name": "python",
   "nbconvert_exporter": "python",
   "pygments_lexer": "ipython3",
   "version": "3.9.7"
  }
 },
 "nbformat": 4,
 "nbformat_minor": 5
}
