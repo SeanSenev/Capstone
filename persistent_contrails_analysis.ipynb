{
 "cells": [
  {
   "cell_type": "markdown",
   "id": "0cffa2e5",
   "metadata": {},
   "source": [
    "## Predicting Persistent Contrails"
   ]
  },
  {
   "cell_type": "markdown",
   "id": "a785c835",
   "metadata": {},
   "source": [
    "### Objective:"
   ]
  },
  {
   "cell_type": "markdown",
   "id": "5caac485",
   "metadata": {},
   "source": [
    "Predict the formation and length of persistent contrails using atmospheric and flight data."
   ]
  },
  {
   "cell_type": "markdown",
   "id": "2ba0325f",
   "metadata": {},
   "source": [
    "### Exploratory Data Analysis (EDA)"
   ]
  },
  {
   "cell_type": "markdown",
   "id": "5d65f2b4",
   "metadata": {},
   "source": [
    "An initial exploratory analysis was conducted to understand the dataset. This involved:"
   ]
  },
  {
   "cell_type": "markdown",
   "id": "e5b82697",
   "metadata": {},
   "source": [
    "- Reading the dataset and understanding its structure."
   ]
  },
  {
   "cell_type": "markdown",
   "id": "a84c4ea1",
   "metadata": {},
   "source": [
    "- Overview of columns and data types."
   ]
  },
  {
   "cell_type": "markdown",
   "id": "3c66a793",
   "metadata": {},
   "source": [
    "- Basic statistics and distributions for key variables."
   ]
  },
  {
   "cell_type": "markdown",
   "id": "b577ea95",
   "metadata": {},
   "source": [
    "### Correlation Analysis"
   ]
  },
  {
   "cell_type": "markdown",
   "id": "c6b9231a",
   "metadata": {},
   "source": [
    "Correlations between the persistent contrail length and other variables were computed to identify potential predictors."
   ]
  },
  {
   "cell_type": "markdown",
   "id": "569c24bb",
   "metadata": {},
   "source": [
    "### Modeling"
   ]
  },
  {
   "cell_type": "markdown",
   "id": "c8cfe5c9",
   "metadata": {},
   "source": [
    "Three models were considered:"
   ]
  },
  {
   "cell_type": "markdown",
   "id": "de628cf0",
   "metadata": {},
   "source": [
    "1. Polynomial Regression"
   ]
  },
  {
   "cell_type": "markdown",
   "id": "3654ee46",
   "metadata": {},
   "source": [
    "2. Decision Tree"
   ]
  },
  {
   "cell_type": "markdown",
   "id": "1c6a944e",
   "metadata": {},
   "source": [
    "3. Random Forest (Note: Training was interrupted due to time constraints)"
   ]
  },
  {
   "cell_type": "markdown",
   "id": "edbad928",
   "metadata": {},
   "source": [
    "The Polynomial Regression and Decision Tree models were evaluated based on MAE and RMSE."
   ]
  },
  {
   "cell_type": "markdown",
   "id": "5ddf57d2",
   "metadata": {},
   "source": [
    "### Observations"
   ]
  },
  {
   "cell_type": "markdown",
   "id": "fd8d5f1c",
   "metadata": {},
   "source": [
    "Both models had relatively high errors compared to the average contrail length, suggesting the need for more complex models or additional feature engineering."
   ]
  },
  {
   "cell_type": "code",
   "execution_count": 1,
   "id": "0a2630d4",
   "metadata": {},
   "outputs": [],
   "source": [
    "# Read the dataset\n",
    "data_csv = pd.read_csv('/mnt/data/Flight Summary - North Atlantic - 2019.csv')"
   ]
  },
  {
   "cell_type": "code",
   "execution_count": 1,
   "id": "a35a0a4e",
   "metadata": {},
   "outputs": [],
   "source": [
    "# Overview of the dataset\n",
    "data_csv.head()"
   ]
  },
  {
   "cell_type": "code",
   "execution_count": 1,
   "id": "d564756f",
   "metadata": {},
   "outputs": [],
   "source": [
    "# Basic statistics for key variables\n",
    "data_csv[['Persistent contrail length (km)'] + top_atmospheric_variables].describe()"
   ]
  },
  {
   "cell_type": "code",
   "execution_count": 1,
   "id": "aadc0085",
   "metadata": {},
   "outputs": [],
   "source": [
    "# Correlation analysis\n",
    "sorted_correlations"
   ]
  },
  {
   "cell_type": "code",
   "execution_count": 1,
   "id": "42e693a1",
   "metadata": {},
   "outputs": [],
   "source": [
    "# Polynomial Regression\n",
    "mae_poly, rmse_poly"
   ]
  },
  {
   "cell_type": "code",
   "execution_count": 1,
   "id": "b738904b",
   "metadata": {},
   "outputs": [],
   "source": [
    "# Decision Tree\n",
    "mae_tree, rmse_tree"
   ]
  },
  {
   "cell_type": "code",
   "execution_count": 1,
   "id": "c1ea6679",
   "metadata": {},
   "outputs": [],
   "source": [
    "# Average Persistent Contrail Length\n",
    "average_persistent_contrail_length, percentage_error_poly, percentage_error_tree"
   ]
  }
 ],
 "metadata": {},
 "nbformat": 4,
 "nbformat_minor": 5
}
